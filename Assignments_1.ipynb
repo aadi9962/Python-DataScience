{
 "cells": [
  {
   "cell_type": "code",
   "execution_count": 65,
   "id": "180ed862",
   "metadata": {},
   "outputs": [
    {
     "name": "stdout",
     "output_type": "stream",
     "text": [
      "l2 is greater than l1\n",
      "l2 is greater than l1\n",
      "l2 is greater than l1\n",
      "l1 is greater than l2\n",
      "l1 is greater than l2\n",
      "l1 is greater than l2\n"
     ]
    }
   ],
   "source": [
    "#Comparing two list elements (Which one is greater)\n",
    "l1 = [1,2,3,4,5,6]\n",
    "l2 =[6,5,4,3,2,1]\n",
    "\n",
    "for i in range(6):\n",
    "    if l1[i]>l2[i]:\n",
    "        print(\"l1 is greater than l2\")\n",
    "    else:\n",
    "        print(\"l2 is greater than l1\")"
   ]
  },
  {
   "cell_type": "code",
   "execution_count": 67,
   "id": "af6ec22c",
   "metadata": {},
   "outputs": [
    {
     "name": "stdout",
     "output_type": "stream",
     "text": [
      "[6, 7, 8, 9, 10]\n"
     ]
    }
   ],
   "source": [
    "#Adding 5 two each tupple element\n",
    "tuple1 = (1,2,3,4,5)\n",
    "list1 = list(tuple1) #converting it into list because tuple is immutable\n",
    "result = [x+5 for x in list1]\n",
    "print(result)"
   ]
  },
  {
   "cell_type": "code",
   "execution_count": 68,
   "id": "3d28d1ef",
   "metadata": {},
   "outputs": [
    {
     "data": {
      "text/plain": [
       "30"
      ]
     },
     "execution_count": 68,
     "metadata": {},
     "output_type": "execute_result"
    }
   ],
   "source": [
    "#Function to add 10 in the input number\n",
    "def addfunc(x):\n",
    "    return x+10\n",
    "addfunc(20)"
   ]
  },
  {
   "cell_type": "code",
   "execution_count": 69,
   "id": "54e340c3",
   "metadata": {},
   "outputs": [],
   "source": [
    "#Function to know the number is even or odd\n",
    "def even_odd(n):\n",
    "    if n%2==0:\n",
    "        print(\"even\")\n",
    "    else:\n",
    "        print('odd')"
   ]
  },
  {
   "cell_type": "code",
   "execution_count": 30,
   "id": "c930b71f",
   "metadata": {},
   "outputs": [
    {
     "name": "stdout",
     "output_type": "stream",
     "text": [
      "odd\n",
      "odd\n",
      "even\n",
      "even\n",
      "odd\n",
      "even\n",
      "odd\n"
     ]
    }
   ],
   "source": [
    "even_odd(49)\n",
    "even_odd(7)\n",
    "even_odd(2)\n",
    "even_odd(98)\n",
    "even_odd(20000000001)\n",
    "even_odd(3214083402)\n",
    "even_odd(1)"
   ]
  },
  {
   "cell_type": "markdown",
   "id": "8971d32c",
   "metadata": {},
   "source": [
    "# Creating a Bank account function to check the balance and transactions\n",
    "\n"
   ]
  },
  {
   "cell_type": "code",
   "execution_count": 70,
   "id": "05154bcf",
   "metadata": {},
   "outputs": [],
   "source": [
    "class BankAccount():\n",
    "    def __init__(self):\n",
    "        self.balance=5000\n",
    "    def check_balance(self):\n",
    "        print(\"Current balance is : \", self.balance)\n",
    "    def depositAmount(self, deposit):\n",
    "        self.balance = self.balance + deposit\n",
    "    def withdrawal(self,withdraw):\n",
    "        if self.balance>withdraw:\n",
    "            self.balance = self.balance- withdraw\n",
    "            print(\"Remaining balance :\", self.balance)\n",
    "        else:\n",
    "            print('insufficient balance')\n",
    "        "
   ]
  },
  {
   "cell_type": "code",
   "execution_count": 61,
   "id": "7cd46a7d",
   "metadata": {},
   "outputs": [],
   "source": [
    "ob = BankAccount() #creating object"
   ]
  },
  {
   "cell_type": "code",
   "execution_count": 62,
   "id": "178c8ab7",
   "metadata": {},
   "outputs": [
    {
     "name": "stdout",
     "output_type": "stream",
     "text": [
      "Current balance is :  5000\n"
     ]
    }
   ],
   "source": [
    "ob.check_balance() #calling check balnce function to check the balance"
   ]
  },
  {
   "cell_type": "code",
   "execution_count": 63,
   "id": "616b9918",
   "metadata": {},
   "outputs": [
    {
     "name": "stdout",
     "output_type": "stream",
     "text": [
      "Remaining balance : 3000\n"
     ]
    }
   ],
   "source": [
    "ob.withdrawal(2000) #checking the withdra function"
   ]
  },
  {
   "cell_type": "code",
   "execution_count": null,
   "id": "c664c78c",
   "metadata": {},
   "outputs": [],
   "source": []
  }
 ],
 "metadata": {
  "kernelspec": {
   "display_name": "Python 3",
   "language": "python",
   "name": "python3"
  },
  "language_info": {
   "codemirror_mode": {
    "name": "ipython",
    "version": 3
   },
   "file_extension": ".py",
   "mimetype": "text/x-python",
   "name": "python",
   "nbconvert_exporter": "python",
   "pygments_lexer": "ipython3",
   "version": "3.8.8"
  }
 },
 "nbformat": 4,
 "nbformat_minor": 5
}
