{
 "cells": [
  {
   "cell_type": "code",
   "execution_count": 2,
   "id": "8adce152-5b5c-40e8-8a15-d7d05332c02f",
   "metadata": {},
   "outputs": [],
   "source": [
    "import pandas as pacd\n",
    "data1 = pd.read_csv(r'C:\\Users\\Aditya\\Desktop\\churndata1.csv')"
   ]
  },
  {
   "cell_type": "code",
   "execution_count": 3,
   "id": "71fa327a-89f2-4f70-b3ad-82a42bede025",
   "metadata": {},
   "outputs": [
    {
     "name": "stdout",
     "output_type": "stream",
     "text": [
      "            id  Premium  Age  Gender  Income  ChronicDis  Terminations\n",
      "0            1      187   40       1   34687           1             0\n",
      "1            2      965   21       1   77481           1             0\n",
      "2            3      713   64       1   64016           1             0\n",
      "3            4      441   27       1    5169           0             0\n",
      "4            5      116   23       1   80719           0             0\n",
      "...        ...      ...  ...     ...     ...         ...           ...\n",
      "149891  149892      219   40       2   84605           0             0\n",
      "149892  149893      655   24       2   48799           0             0\n",
      "149893  149894      732   10       2   52499           0             0\n",
      "149894  149895      371   24       2   65964           1             0\n",
      "149895  149896      906   11       2   54088           1             0\n",
      "\n",
      "[149896 rows x 7 columns]\n"
     ]
    }
   ],
   "source": [
    "print(data1)"
   ]
  },
  {
   "cell_type": "code",
   "execution_count": 4,
   "id": "3d5ece28-5b6b-4e7d-9841-5a9640dbd627",
   "metadata": {},
   "outputs": [
    {
     "data": {
      "text/html": [
       "<div>\n",
       "<style scoped>\n",
       "    .dataframe tbody tr th:only-of-type {\n",
       "        vertical-align: middle;\n",
       "    }\n",
       "\n",
       "    .dataframe tbody tr th {\n",
       "        vertical-align: top;\n",
       "    }\n",
       "\n",
       "    .dataframe thead th {\n",
       "        text-align: right;\n",
       "    }\n",
       "</style>\n",
       "<table border=\"1\" class=\"dataframe\">\n",
       "  <thead>\n",
       "    <tr style=\"text-align: right;\">\n",
       "      <th></th>\n",
       "      <th>id</th>\n",
       "      <th>Premium</th>\n",
       "      <th>Age</th>\n",
       "      <th>Gender</th>\n",
       "      <th>Income</th>\n",
       "      <th>ChronicDis</th>\n",
       "      <th>Terminations</th>\n",
       "    </tr>\n",
       "  </thead>\n",
       "  <tbody>\n",
       "    <tr>\n",
       "      <th>0</th>\n",
       "      <td>1</td>\n",
       "      <td>187</td>\n",
       "      <td>40</td>\n",
       "      <td>1</td>\n",
       "      <td>34687</td>\n",
       "      <td>1</td>\n",
       "      <td>0</td>\n",
       "    </tr>\n",
       "    <tr>\n",
       "      <th>1</th>\n",
       "      <td>2</td>\n",
       "      <td>965</td>\n",
       "      <td>21</td>\n",
       "      <td>1</td>\n",
       "      <td>77481</td>\n",
       "      <td>1</td>\n",
       "      <td>0</td>\n",
       "    </tr>\n",
       "    <tr>\n",
       "      <th>2</th>\n",
       "      <td>3</td>\n",
       "      <td>713</td>\n",
       "      <td>64</td>\n",
       "      <td>1</td>\n",
       "      <td>64016</td>\n",
       "      <td>1</td>\n",
       "      <td>0</td>\n",
       "    </tr>\n",
       "    <tr>\n",
       "      <th>3</th>\n",
       "      <td>4</td>\n",
       "      <td>441</td>\n",
       "      <td>27</td>\n",
       "      <td>1</td>\n",
       "      <td>5169</td>\n",
       "      <td>0</td>\n",
       "      <td>0</td>\n",
       "    </tr>\n",
       "    <tr>\n",
       "      <th>4</th>\n",
       "      <td>5</td>\n",
       "      <td>116</td>\n",
       "      <td>23</td>\n",
       "      <td>1</td>\n",
       "      <td>80719</td>\n",
       "      <td>0</td>\n",
       "      <td>0</td>\n",
       "    </tr>\n",
       "    <tr>\n",
       "      <th>5</th>\n",
       "      <td>6</td>\n",
       "      <td>194</td>\n",
       "      <td>23</td>\n",
       "      <td>1</td>\n",
       "      <td>98191</td>\n",
       "      <td>0</td>\n",
       "      <td>0</td>\n",
       "    </tr>\n",
       "    <tr>\n",
       "      <th>6</th>\n",
       "      <td>7</td>\n",
       "      <td>828</td>\n",
       "      <td>29</td>\n",
       "      <td>1</td>\n",
       "      <td>25464</td>\n",
       "      <td>1</td>\n",
       "      <td>0</td>\n",
       "    </tr>\n",
       "    <tr>\n",
       "      <th>7</th>\n",
       "      <td>8</td>\n",
       "      <td>387</td>\n",
       "      <td>23</td>\n",
       "      <td>2</td>\n",
       "      <td>57666</td>\n",
       "      <td>1</td>\n",
       "      <td>0</td>\n",
       "    </tr>\n",
       "    <tr>\n",
       "      <th>8</th>\n",
       "      <td>9</td>\n",
       "      <td>492</td>\n",
       "      <td>32</td>\n",
       "      <td>1</td>\n",
       "      <td>45719</td>\n",
       "      <td>1</td>\n",
       "      <td>0</td>\n",
       "    </tr>\n",
       "    <tr>\n",
       "      <th>9</th>\n",
       "      <td>10</td>\n",
       "      <td>5</td>\n",
       "      <td>23</td>\n",
       "      <td>2</td>\n",
       "      <td>44404</td>\n",
       "      <td>0</td>\n",
       "      <td>0</td>\n",
       "    </tr>\n",
       "    <tr>\n",
       "      <th>10</th>\n",
       "      <td>11</td>\n",
       "      <td>142</td>\n",
       "      <td>30</td>\n",
       "      <td>1</td>\n",
       "      <td>67449</td>\n",
       "      <td>0</td>\n",
       "      <td>0</td>\n",
       "    </tr>\n",
       "    <tr>\n",
       "      <th>11</th>\n",
       "      <td>12</td>\n",
       "      <td>127</td>\n",
       "      <td>65</td>\n",
       "      <td>2</td>\n",
       "      <td>64330</td>\n",
       "      <td>1</td>\n",
       "      <td>0</td>\n",
       "    </tr>\n",
       "    <tr>\n",
       "      <th>12</th>\n",
       "      <td>13</td>\n",
       "      <td>567</td>\n",
       "      <td>23</td>\n",
       "      <td>1</td>\n",
       "      <td>72293</td>\n",
       "      <td>1</td>\n",
       "      <td>0</td>\n",
       "    </tr>\n",
       "    <tr>\n",
       "      <th>13</th>\n",
       "      <td>14</td>\n",
       "      <td>776</td>\n",
       "      <td>27</td>\n",
       "      <td>2</td>\n",
       "      <td>47400</td>\n",
       "      <td>1</td>\n",
       "      <td>0</td>\n",
       "    </tr>\n",
       "    <tr>\n",
       "      <th>14</th>\n",
       "      <td>15</td>\n",
       "      <td>805</td>\n",
       "      <td>56</td>\n",
       "      <td>2</td>\n",
       "      <td>19222</td>\n",
       "      <td>0</td>\n",
       "      <td>0</td>\n",
       "    </tr>\n",
       "  </tbody>\n",
       "</table>\n",
       "</div>"
      ],
      "text/plain": [
       "    id  Premium  Age  Gender  Income  ChronicDis  Terminations\n",
       "0    1      187   40       1   34687           1             0\n",
       "1    2      965   21       1   77481           1             0\n",
       "2    3      713   64       1   64016           1             0\n",
       "3    4      441   27       1    5169           0             0\n",
       "4    5      116   23       1   80719           0             0\n",
       "5    6      194   23       1   98191           0             0\n",
       "6    7      828   29       1   25464           1             0\n",
       "7    8      387   23       2   57666           1             0\n",
       "8    9      492   32       1   45719           1             0\n",
       "9   10        5   23       2   44404           0             0\n",
       "10  11      142   30       1   67449           0             0\n",
       "11  12      127   65       2   64330           1             0\n",
       "12  13      567   23       1   72293           1             0\n",
       "13  14      776   27       2   47400           1             0\n",
       "14  15      805   56       2   19222           0             0"
      ]
     },
     "execution_count": 4,
     "metadata": {},
     "output_type": "execute_result"
    }
   ],
   "source": [
    "data1.head(15)"
   ]
  },
  {
   "cell_type": "code",
   "execution_count": 5,
   "id": "4c5e9f49-ce02-4edf-90d0-d18aa41a304d",
   "metadata": {},
   "outputs": [
    {
     "data": {
      "text/plain": [
       "(149896, 7)"
      ]
     },
     "execution_count": 5,
     "metadata": {},
     "output_type": "execute_result"
    }
   ],
   "source": [
    "data1.shape"
   ]
  },
  {
   "cell_type": "code",
   "execution_count": 6,
   "id": "5ba575bf-d17a-44db-9973-c72537874f75",
   "metadata": {},
   "outputs": [],
   "source": [
    "data2 = data1[['id','Age','Income']].head(3)"
   ]
  },
  {
   "cell_type": "code",
   "execution_count": 7,
   "id": "b7cbd7d6-bfb2-4f48-870c-7a77913de677",
   "metadata": {},
   "outputs": [
    {
     "name": "stdout",
     "output_type": "stream",
     "text": [
      "   id  Age  Income\n",
      "0   1   40   34687\n",
      "1   2   21   77481\n",
      "2   3   64   64016\n"
     ]
    }
   ],
   "source": [
    "print(data2)"
   ]
  },
  {
   "cell_type": "code",
   "execution_count": 8,
   "id": "4776027c-eb68-4ecd-925f-29a1280ecd4d",
   "metadata": {},
   "outputs": [
    {
     "name": "stdout",
     "output_type": "stream",
     "text": [
      "                  id        Premium            Age         Gender  \\\n",
      "count  149896.000000  149896.000000  149896.000000  149896.000000   \n",
      "mean    74948.500000     505.977685      31.982374       1.644160   \n",
      "std     43271.392313     290.337344      17.790283       0.478769   \n",
      "min         1.000000       0.000000       0.000000       1.000000   \n",
      "25%     37474.750000     254.000000      24.000000       1.000000   \n",
      "50%     74948.500000     509.000000      24.000000       2.000000   \n",
      "75%    112422.250000     759.000000      46.000000       2.000000   \n",
      "max    149896.000000    1000.000000      70.000000       2.000000   \n",
      "\n",
      "              Income     ChronicDis  Terminations  \n",
      "count  149896.000000  149896.000000      149896.0  \n",
      "mean    48849.349035       0.690666           0.0  \n",
      "std     29472.401132       0.462221           0.0  \n",
      "min       100.000000       0.000000           0.0  \n",
      "25%     23295.000000       0.000000           0.0  \n",
      "50%     48665.000000       1.000000           0.0  \n",
      "75%     74569.000000       1.000000           0.0  \n",
      "max     99996.000000       1.000000           0.0  \n"
     ]
    }
   ],
   "source": [
    "print(data1.describe())"
   ]
  },
  {
   "cell_type": "code",
   "execution_count": 9,
   "id": "ed073379-a927-4c9a-b0b7-011ec31fc4ce",
   "metadata": {},
   "outputs": [
    {
     "name": "stdout",
     "output_type": "stream",
     "text": [
      "id              149896\n",
      "Premium         149896\n",
      "Age             149896\n",
      "Gender          149896\n",
      "Income          149896\n",
      "ChronicDis      149896\n",
      "Terminations    149896\n",
      "dtype: int64\n"
     ]
    }
   ],
   "source": [
    "print(data1.count())"
   ]
  },
  {
   "cell_type": "code",
   "execution_count": 10,
   "id": "c6bdee12-3553-42de-b3c7-d4d01b053cb9",
   "metadata": {},
   "outputs": [],
   "source": [
    "data3 = data1.drop(['id','Income'],axis=1)"
   ]
  },
  {
   "cell_type": "code",
   "execution_count": 11,
   "id": "1b1354c0-ff4e-4cad-8d77-7fc2a89a0ad4",
   "metadata": {},
   "outputs": [
    {
     "name": "stdout",
     "output_type": "stream",
     "text": [
      "        Premium  Age  Gender  ChronicDis  Terminations\n",
      "0           187   40       1           1             0\n",
      "1           965   21       1           1             0\n",
      "2           713   64       1           1             0\n",
      "3           441   27       1           0             0\n",
      "4           116   23       1           0             0\n",
      "...         ...  ...     ...         ...           ...\n",
      "149891      219   40       2           0             0\n",
      "149892      655   24       2           0             0\n",
      "149893      732   10       2           0             0\n",
      "149894      371   24       2           1             0\n",
      "149895      906   11       2           1             0\n",
      "\n",
      "[149896 rows x 5 columns]\n"
     ]
    }
   ],
   "source": [
    "print(data3)"
   ]
  },
  {
   "cell_type": "code",
   "execution_count": 12,
   "id": "877e5daa-fcb7-4c53-ae94-a30eb08a1054",
   "metadata": {},
   "outputs": [],
   "source": [
    "data4 = data1.rename(columns={'Age':'id_number'})"
   ]
  },
  {
   "cell_type": "code",
   "execution_count": 13,
   "id": "12b53143-978f-4316-a38f-22f94455bdf9",
   "metadata": {},
   "outputs": [
    {
     "name": "stdout",
     "output_type": "stream",
     "text": [
      "            id  Premium  id_number  Gender  Income  ChronicDis  Terminations\n",
      "0            1      187         40       1   34687           1             0\n",
      "1            2      965         21       1   77481           1             0\n",
      "2            3      713         64       1   64016           1             0\n",
      "3            4      441         27       1    5169           0             0\n",
      "4            5      116         23       1   80719           0             0\n",
      "...        ...      ...        ...     ...     ...         ...           ...\n",
      "149891  149892      219         40       2   84605           0             0\n",
      "149892  149893      655         24       2   48799           0             0\n",
      "149893  149894      732         10       2   52499           0             0\n",
      "149894  149895      371         24       2   65964           1             0\n",
      "149895  149896      906         11       2   54088           1             0\n",
      "\n",
      "[149896 rows x 7 columns]\n"
     ]
    }
   ],
   "source": [
    "print(data4)"
   ]
  },
  {
   "cell_type": "code",
   "execution_count": 14,
   "id": "aba76659-8fc6-47c6-906b-b828a4e42737",
   "metadata": {},
   "outputs": [
    {
     "name": "stdout",
     "output_type": "stream",
     "text": [
      "            id  Premium  Age  Gender  Income  ChronicDis  Terminations\n",
      "0            1      187   40       1   34687           1             0\n",
      "1            2      965   21       1   77481           1             0\n",
      "2            3      713   64       1   64016           1             0\n",
      "3            4      441   27       1    5169           0             0\n",
      "4            5      116   23       1   80719           0             0\n",
      "...        ...      ...  ...     ...     ...         ...           ...\n",
      "149891  149892      219   40       2   84605           0             0\n",
      "149892  149893      655   24       2   48799           0             0\n",
      "149893  149894      732   10       2   52499           0             0\n",
      "149894  149895      371   24       2   65964           1             0\n",
      "149895  149896      906   11       2   54088           1             0\n",
      "\n",
      "[149896 rows x 7 columns]\n"
     ]
    }
   ],
   "source": [
    "print(data1)"
   ]
  },
  {
   "cell_type": "code",
   "execution_count": 15,
   "id": "666a7fa7-94c8-46fc-a269-dc08eaedb6fe",
   "metadata": {},
   "outputs": [
    {
     "name": "stdout",
     "output_type": "stream",
     "text": [
      "id                 4\n",
      "Premium          441\n",
      "Age               27\n",
      "Gender             1\n",
      "Income          5169\n",
      "ChronicDis         0\n",
      "Terminations       0\n",
      "Name: 3, dtype: int64\n"
     ]
    }
   ],
   "source": [
    "print(data1.iloc[3])"
   ]
  },
  {
   "cell_type": "code",
   "execution_count": 16,
   "id": "8cc5b689-612f-4d9f-82ea-0a25ee417702",
   "metadata": {},
   "outputs": [
    {
     "name": "stdout",
     "output_type": "stream",
     "text": [
      "   id  Premium  Age  Gender  Income  ChronicDis  Terminations\n",
      "3   4      441   27       1    5169           0             0\n"
     ]
    }
   ],
   "source": [
    "print(data1[3:4])"
   ]
  },
  {
   "cell_type": "code",
   "execution_count": 18,
   "id": "8898a2ba-b9e3-4449-8674-c9098d6275ec",
   "metadata": {},
   "outputs": [
    {
     "name": "stdout",
     "output_type": "stream",
     "text": [
      "id              0\n",
      "Premium         0\n",
      "Age             0\n",
      "Gender          0\n",
      "Income          0\n",
      "ChronicDis      0\n",
      "Terminations    0\n",
      "dtype: int64\n"
     ]
    }
   ],
   "source": [
    "print(data1.isnull().sum())"
   ]
  },
  {
   "cell_type": "code",
   "execution_count": null,
   "id": "3c54bda1",
   "metadata": {},
   "outputs": [],
   "source": []
  }
 ],
 "metadata": {
  "kernelspec": {
   "display_name": "Python 3",
   "language": "python",
   "name": "python3"
  },
  "language_info": {
   "codemirror_mode": {
    "name": "ipython",
    "version": 3
   },
   "file_extension": ".py",
   "mimetype": "text/x-python",
   "name": "python",
   "nbconvert_exporter": "python",
   "pygments_lexer": "ipython3",
   "version": "3.8.8"
  },
  "toc-autonumbering": false,
  "toc-showcode": true,
  "toc-showmarkdowntxt": false
 },
 "nbformat": 4,
 "nbformat_minor": 5
}
